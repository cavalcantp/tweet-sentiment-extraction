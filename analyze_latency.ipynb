{
 "cells": [
  {
   "cell_type": "markdown",
   "metadata": {},
   "source": [
    "# Analyze Service Latency and Some initial suggestions of improvement"
   ]
  },
  {
   "cell_type": "code",
   "execution_count": 1,
   "metadata": {},
   "outputs": [
    {
     "name": "stdout",
     "output_type": "stream",
     "text": [
      "Average latency: 1.3389 seconds per request\n"
     ]
    }
   ],
   "source": [
    "import requests\n",
    "import time\n",
    "\n",
    "def analyze_latency():\n",
    "    url = \"http://0.0.0.0:8000/sentiment\"\n",
    "    data = {\n",
    "        \"tweet\": \"Recession hit Veronique Branquinho, she has to quit her company, such a shame!\",\n",
    "        \"sentiment\": \"negative\",\n",
    "    }\n",
    "\n",
    "    num_requests = 100  # Define the number of requests to average over\n",
    "    total_time = 0\n",
    "\n",
    "    for _ in range(num_requests):\n",
    "        start_time = time.time()\n",
    "        response = requests.post(url, json=data)\n",
    "        end_time = time.time()\n",
    "        total_time += (end_time - start_time)\n",
    "\n",
    "        # Assert response status for correctness\n",
    "        assert response.status_code == 200\n",
    "\n",
    "    avg_latency = total_time / num_requests\n",
    "    print(f\"Average latency: {avg_latency:.4f} seconds per request\")\n",
    "\n",
    "analyze_latency()\n"
   ]
  },
  {
   "cell_type": "markdown",
   "metadata": {},
   "source": [
    "So the average latency is 1.3389 s/request"
   ]
  },
  {
   "cell_type": "markdown",
   "metadata": {},
   "source": [
    "Potential Improvements:\n",
    "\n",
    "- If possible (depending on conditions of the system), gather batch requests into a single request to reduce individual request times. In case of batch inference, GPU could even be leveraged to increase computation speed.\n",
    "- Quantization of model, pruning or knowledge distillation if possible.\n",
    "- Simplify preprocessing, if feasible\n",
    "- Optimize container to garantuee it has enough memory to comport model.\n",
    "- In a real scale project, horizontally scale service: spin up several containers so load can be distributed between them, reducing average latency.\n",
    "- More alternatives that can be metioned during meeting\n"
   ]
  }
 ],
 "metadata": {
  "kernelspec": {
   "display_name": "tweet-sentiment-extraction",
   "language": "python",
   "name": "python3"
  },
  "language_info": {
   "codemirror_mode": {
    "name": "ipython",
    "version": 3
   },
   "file_extension": ".py",
   "mimetype": "text/x-python",
   "name": "python",
   "nbconvert_exporter": "python",
   "pygments_lexer": "ipython3",
   "version": "3.9.5"
  }
 },
 "nbformat": 4,
 "nbformat_minor": 2
}
