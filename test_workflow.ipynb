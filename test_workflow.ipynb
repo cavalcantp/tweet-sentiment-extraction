{
 "cells": [
  {
   "cell_type": "markdown",
   "metadata": {},
   "source": [
    "### e2e test\n",
    "- In a real project, this notebook would be dedicated to testing the ML System end2end: the feature engineering pipepile, interactions with databases, the inference, ... All after deployment\n",
    "\n",
    "- Here, because this is a prototype project, we are limiting the scope to test the API with the production settings (weights)"
   ]
  },
  {
   "cell_type": "code",
   "execution_count": 4,
   "metadata": {},
   "outputs": [],
   "source": [
    "import requests"
   ]
  },
  {
   "cell_type": "markdown",
   "metadata": {},
   "source": [
    "# Test API\n",
    "\n",
    "- Make sure to spin up a container for the service, before proceeding"
   ]
  },
  {
   "cell_type": "code",
   "execution_count": 19,
   "metadata": {},
   "outputs": [],
   "source": [
    "url = \"http://0.0.0.0:8000/sentiment\"\n",
    "data = {\n",
    "    \"tweet\": \"So happy\",\n",
    "    \"sentiment\": \"negative\",\n",
    "}\n",
    "expected_output = \" happy\"\n",
    "\n",
    "response = requests.post(url, json=data)\n",
    "assert response.status_code == 200\n",
    "assert response.json()[\"selected_text\"] == expected_output"
   ]
  }
 ],
 "metadata": {
  "kernelspec": {
   "display_name": "tweet-sentiment-extraction",
   "language": "python",
   "name": "python3"
  },
  "language_info": {
   "codemirror_mode": {
    "name": "ipython",
    "version": 3
   },
   "file_extension": ".py",
   "mimetype": "text/x-python",
   "name": "python",
   "nbconvert_exporter": "python",
   "pygments_lexer": "ipython3",
   "version": "3.9.5"
  }
 },
 "nbformat": 4,
 "nbformat_minor": 2
}
